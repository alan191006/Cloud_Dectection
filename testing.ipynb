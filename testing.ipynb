{
 "cells": [
  {
   "cell_type": "code",
   "execution_count": 2,
   "metadata": {},
   "outputs": [],
   "source": [
    "import torch\n",
    "import cv2\n",
    "import os\n",
    "import matplotlib.pyplot as plt\n",
    "from PIL import Image\n",
    "import numpy as np\n",
    "from torch import nn\n",
    "from pathlib import Path\n",
    "from torch.utils.data import Dataset, DataLoader\n",
    "from tqdm import tqdm\n",
    "from torchvision.utils import make_grid"
   ]
  },
  {
   "cell_type": "code",
   "execution_count": 2,
   "metadata": {},
   "outputs": [],
   "source": [
    "MODEL_PATH = r\"C:\\Users\\hdmqu\\Documents\\LUX Aerobot\\model_test\\c_unet_1647162803.6921902.pth\"\n",
    "RED_PATH = r\"C:\\Users\\hdmqu\\Documents\\LUX Aerobot\\Dataset\\Full dataset\\95red_filter\\\\\"\n",
    "GREEN_PATH = r\"C:\\Users\\hdmqu\\Documents\\LUX Aerobot\\Dataset\\Full dataset\\95green_filter\\\\\"\n",
    "BLUE_PATH = r\"C:\\Users\\hdmqu\\Documents\\LUX Aerobot\\Dataset\\Full dataset\\95blue_filter\\\\\"\n",
    "NIR_PATH = r\"C:\\Users\\hdmqu\\Documents\\LUX Aerobot\\Dataset\\Full dataset\\95nir_filter\\\\\"\n",
    "GT_PATH = r\"C:\\Users\\hdmqu\\Documents\\LUX Aerobot\\Dataset\\Full dataset\\95gt_filter\\\\\"\n",
    "\n",
    "r_dir = Path(RED_PATH)"
   ]
  },
  {
   "cell_type": "markdown",
   "metadata": {},
   "source": [
    "Percentage of cloud"
   ]
  },
  {
   "cell_type": "code",
   "execution_count": 3,
   "metadata": {},
   "outputs": [
    {
     "name": "stdout",
     "output_type": "stream",
     "text": [
      "No cloud images:\t 4089\n",
      "Less cloud images:\t 3946\n",
      "More cloud images:\t 2315\n",
      "Full cloud images:\t 5997\n",
      "Total images:\t\t 16347\n"
     ]
    }
   ],
   "source": [
    "#   0%      1 - 30%    30 - 70%    70 - 100%\n",
    "no_cloud, less_cloud, more_cloud, full_cloud = [], [], [], []\n",
    "\n",
    "low_threshold = 384*384 * 0.3\n",
    "high_threshold = 384*384 * 0.7\n",
    "\n",
    "for file in os.listdir(GT_PATH):\n",
    "    img = cv2.imread(GT_PATH + file)\n",
    "    \n",
    "    occurrences = np.count_nonzero(img[:, :, 0] == 255)\n",
    "\n",
    "    if occurrences == 0:\n",
    "        no_cloud.append(file)\n",
    "        continue\n",
    "    elif occurrences < low_threshold:\n",
    "        less_cloud.append(file)\n",
    "        continue\n",
    "    elif occurrences < high_threshold:\n",
    "        more_cloud.append(file)\n",
    "    else:\n",
    "        full_cloud.append(file)\n",
    "\n",
    "print(\"No cloud images:\\t\", len(no_cloud))\n",
    "print(\"Less cloud images:\\t\", len(less_cloud))\n",
    "print(\"More cloud images:\\t\", len(more_cloud))\n",
    "print(\"Full cloud images:\\t\", len(full_cloud))\n",
    "print(\"Total images:\\t\\t\", len(os.listdir(GT_PATH)))"
   ]
  },
  {
   "cell_type": "code",
   "execution_count": 5,
   "metadata": {},
   "outputs": [],
   "source": [
    "def to_path(list):\n",
    "    for i in range(len(list)):\n",
    "        list[i] = RED_PATH + list[i].replace(\"gt\", \"red\")\n",
    "    return list"
   ]
  },
  {
   "cell_type": "code",
   "execution_count": 6,
   "metadata": {},
   "outputs": [],
   "source": [
    "no_cloud_list = to_path(no_cloud)\n",
    "less_cloud_list = to_path(less_cloud)\n",
    "more_cloud_list = to_path(more_cloud)\n",
    "full_cloud_list = to_path(full_cloud)"
   ]
  },
  {
   "cell_type": "code",
   "execution_count": null,
   "metadata": {},
   "outputs": [],
   "source": [
    "print(no_cloud_list[:5])"
   ]
  },
  {
   "cell_type": "code",
   "execution_count": 7,
   "metadata": {},
   "outputs": [],
   "source": [
    "class CloudDataset(Dataset):\n",
    "    def __init__(self, r_dir, g_dir, b_dir, nir_dir, gt_dir, file_list):\n",
    "        super().__init__()\n",
    "        self.files = [self.combine_files(f, g_dir, b_dir, nir_dir, gt_dir) for f in file_list if not os.path.isdir(f)]\n",
    "        \n",
    "    def combine_files(self, r_file: Path, g_dir, b_dir, nir_dir, gt_dir):\n",
    "        files = {\n",
    "            'red': r_file, \n",
    "            'green': r_file.replace('red', 'green'),\n",
    "            'blue': r_file.replace('red', 'blue'), \n",
    "            'nir': r_file.replace('red', 'nir'),\n",
    "            'gt': r_file.replace('red', 'gt')\n",
    "        }\n",
    "        return files\n",
    "                                       \n",
    "    def __len__(self):\n",
    "        return len(self.files)\n",
    "     \n",
    "    def open_as_array(self, idx, invert=False, include_nir=False):\n",
    "        raw_rgb = np.stack([\n",
    "            np.array(Image.open(self.files[idx]['red'])),\n",
    "            np.array(Image.open(self.files[idx]['green'])),\n",
    "            np.array(Image.open(self.files[idx]['blue'])),\n",
    "        ], axis=2)\n",
    "        if include_nir:\n",
    "            nir = np.expand_dims(np.array(Image.open(self.files[idx]['nir'])), 2)\n",
    "            raw_rgb = np.concatenate([raw_rgb, nir], axis=2)\n",
    "        if invert:\n",
    "            raw_rgb = raw_rgb.transpose((2,0,1))\n",
    "        return (raw_rgb / np.iinfo(raw_rgb.dtype).max) # normalized\n",
    "\n",
    "\n",
    "    def open_mask(self, idx, add_dims=False):\n",
    "        raw_mask = np.array(Image.open(self.files[idx]['gt']))\n",
    "        raw_mask = np.where(raw_mask==255, 1, 0)\n",
    "        return np.expand_dims(raw_mask, 0) if add_dims else raw_mask\n",
    "    \n",
    "    def __getitem__(self, idx):\n",
    "        x = torch.tensor(self.open_as_array(idx, invert=True, include_nir=True), dtype=torch.float32)\n",
    "        y = torch.tensor(self.open_mask(idx, add_dims=False), dtype=torch.long)\n",
    "        return x, y\n",
    "    \n",
    "    def __repr__(self):\n",
    "        return f'Dataset class with {self.__len__()} files'"
   ]
  },
  {
   "cell_type": "code",
   "execution_count": 8,
   "metadata": {},
   "outputs": [
    {
     "name": "stdout",
     "output_type": "stream",
     "text": [
      "Dataset class with 4089 files\n",
      "Dataset class with 3946 files\n",
      "Dataset class with 2315 files\n",
      "Dataset class with 5997 files\n"
     ]
    }
   ],
   "source": [
    "no_cloud_data =  CloudDataset(RED_PATH, GREEN_PATH, BLUE_PATH, NIR_PATH, GT_PATH, no_cloud_list)\n",
    "less_cloud_data =  CloudDataset(RED_PATH, GREEN_PATH, BLUE_PATH, NIR_PATH, GT_PATH, less_cloud_list)\n",
    "more_cloud_data =  CloudDataset(RED_PATH, GREEN_PATH, BLUE_PATH, NIR_PATH, GT_PATH, more_cloud_list)\n",
    "full_cloud_data =  CloudDataset(RED_PATH, GREEN_PATH, BLUE_PATH, NIR_PATH, GT_PATH, full_cloud_list)\n",
    "\n",
    "print(no_cloud_data)\n",
    "print(less_cloud_data)\n",
    "print(more_cloud_data)\n",
    "print(full_cloud_data)"
   ]
  },
  {
   "cell_type": "code",
   "execution_count": 9,
   "metadata": {},
   "outputs": [
    {
     "name": "stdout",
     "output_type": "stream",
     "text": [
      "Image: torch.Size([4, 384, 384])\n",
      "Mask: torch.Size([384, 384])\n"
     ]
    }
   ],
   "source": [
    "# Single input example\n",
    "x, y = no_cloud_data[0]\n",
    "print(f'Image: {x.shape}')\n",
    "print(f'Mask: {y.shape}')"
   ]
  },
  {
   "cell_type": "code",
   "execution_count": 10,
   "metadata": {},
   "outputs": [],
   "source": [
    "class depthwiseSeparableConv(nn.Module):\n",
    "    def __init__(self, nin, nout):\n",
    "        super(depthwiseSeparableConv, self).__init__()\n",
    "        self.depthwise = nn.Conv2d(nin, nin, kernel_size=3, padding=1, groups=nin)\n",
    "        self.pointwise = nn.Conv2d(nin, nout, kernel_size=1)\n",
    "\n",
    "    def forward(self, x):\n",
    "        out = self.depthwise(x)\n",
    "        out = self.pointwise(out)\n",
    "        return out"
   ]
  },
  {
   "cell_type": "code",
   "execution_count": 11,
   "metadata": {},
   "outputs": [],
   "source": [
    "class C_UNet(nn.Module):\n",
    "    def __init__(self, in_channels, out_channels):\n",
    "        super().__init__()\n",
    "        self.conv1 = self.contract_block(in_channels, 32)\n",
    "        self.conv2 = self.contract_block(32, 64)\n",
    "        self.conv3 = self.contract_block(64, 128)\n",
    "\n",
    "        self.upconv3 = self.expand_block(128, 64, 3, 1)\n",
    "        self.upconv2 = self.expand_block(64, 32, 3, 1)\n",
    "        self.upconv1 = self.expand_block(32, out_channels, 3, 1)\n",
    "\n",
    "        self.out = nn.Sequential(\n",
    "            nn.Conv2d(out_channels, out_channels, 1),\n",
    "            nn.Sigmoid()\n",
    "        )\n",
    "\n",
    "\n",
    "    def __call__(self, x):\n",
    "        # downsampling part\n",
    "        conv1 = self.conv1(x)\n",
    "        conv2 = self.conv2(conv1)\n",
    "        conv3 = self.conv3(conv2)\n",
    "\n",
    "        upconv3 = self.upconv3(conv3)\n",
    "        upconv2 = self.upconv2(upconv3)\n",
    "        upconv1 = self.upconv1(upconv2)\n",
    "\n",
    "        out = self.out(upconv1)\n",
    "\n",
    "        return out\n",
    "\n",
    "\n",
    "    def contract_block(self, in_channels, out_channels):\n",
    "        contract = nn.Sequential(\n",
    "            depthwiseSeparableConv(in_channels, out_channels),\n",
    "            nn.BatchNorm2d(out_channels),\n",
    "            nn.ReLU(inplace=True),\n",
    "            torch.nn.MaxPool2d(kernel_size=3, stride=2, padding=1)\n",
    "        )\n",
    "        return contract\n",
    "\n",
    "\n",
    "    def expand_block(self, in_channels, out_channels, kernel_size, padding):\n",
    "        expand = nn.Sequential(\n",
    "            torch.nn.Conv2d(in_channels, out_channels, kernel_size, stride=1, padding=padding),\n",
    "            torch.nn.BatchNorm2d(out_channels),\n",
    "            nn.ReLU(inplace=True),\n",
    "            torch.nn.ConvTranspose2d(out_channels, out_channels, kernel_size=3, stride=2, padding=1, output_padding=1) \n",
    "        )\n",
    "        return expand"
   ]
  },
  {
   "cell_type": "code",
   "execution_count": 13,
   "metadata": {},
   "outputs": [
    {
     "name": "stdout",
     "output_type": "stream",
     "text": [
      "Using cpu device.\n"
     ]
    }
   ],
   "source": [
    "def my_collate(batch):\n",
    "    batch = list(filter (lambda x:torch.sum(x[0]).item() != 0, batch))\n",
    "    if len(batch) == 0:\n",
    "        print(\"DOOOOO\")\n",
    "    return torch.utils.data.dataloader.default_collate(batch)\n",
    "\n",
    "# Constants\n",
    "BATCH_SIZE = 32\n",
    "NUM_WORKER = 0\n",
    "DEVICE = \"cuda\" if torch.cuda.is_available() else \"cpu\"\n",
    "\n",
    "print(f\"Using {DEVICE} device.\")\n",
    "\n",
    "no_cloud_loader = DataLoader(no_cloud_data, BATCH_SIZE, shuffle=True, num_workers=NUM_WORKER, collate_fn=my_collate)\n",
    "less_cloud_loader = DataLoader(less_cloud_data, BATCH_SIZE, shuffle=True, num_workers=NUM_WORKER, collate_fn=my_collate)\n",
    "more_cloud_loader = DataLoader(more_cloud_data, BATCH_SIZE, shuffle=True, num_workers=NUM_WORKER, collate_fn=my_collate)\n",
    "full_cloud_loader = DataLoader(full_cloud_data, BATCH_SIZE, shuffle=True, num_workers=NUM_WORKER, collate_fn=my_collate)"
   ]
  },
  {
   "cell_type": "code",
   "execution_count": null,
   "metadata": {},
   "outputs": [],
   "source": [
    "# View batch\n",
    "for images, labels in no_cloud_loader:\n",
    "    fig, ax = plt.subplots(figsize=(8, 8))\n",
    "    ax.set_xticks([]); ax.set_yticks([])\n",
    "    ax.imshow(make_grid(images, nrow=4).permute(1, 2, 0))\n",
    "    break"
   ]
  },
  {
   "cell_type": "code",
   "execution_count": 14,
   "metadata": {},
   "outputs": [
    {
     "data": {
      "text/plain": [
       "C_UNet(\n",
       "  (conv1): Sequential(\n",
       "    (0): depthwiseSeparableConv(\n",
       "      (depthwise): Conv2d(4, 4, kernel_size=(3, 3), stride=(1, 1), padding=(1, 1), groups=4)\n",
       "      (pointwise): Conv2d(4, 32, kernel_size=(1, 1), stride=(1, 1))\n",
       "    )\n",
       "    (1): BatchNorm2d(32, eps=1e-05, momentum=0.1, affine=True, track_running_stats=True)\n",
       "    (2): ReLU(inplace=True)\n",
       "    (3): MaxPool2d(kernel_size=3, stride=2, padding=1, dilation=1, ceil_mode=False)\n",
       "  )\n",
       "  (conv2): Sequential(\n",
       "    (0): depthwiseSeparableConv(\n",
       "      (depthwise): Conv2d(32, 32, kernel_size=(3, 3), stride=(1, 1), padding=(1, 1), groups=32)\n",
       "      (pointwise): Conv2d(32, 64, kernel_size=(1, 1), stride=(1, 1))\n",
       "    )\n",
       "    (1): BatchNorm2d(64, eps=1e-05, momentum=0.1, affine=True, track_running_stats=True)\n",
       "    (2): ReLU(inplace=True)\n",
       "    (3): MaxPool2d(kernel_size=3, stride=2, padding=1, dilation=1, ceil_mode=False)\n",
       "  )\n",
       "  (conv3): Sequential(\n",
       "    (0): depthwiseSeparableConv(\n",
       "      (depthwise): Conv2d(64, 64, kernel_size=(3, 3), stride=(1, 1), padding=(1, 1), groups=64)\n",
       "      (pointwise): Conv2d(64, 128, kernel_size=(1, 1), stride=(1, 1))\n",
       "    )\n",
       "    (1): BatchNorm2d(128, eps=1e-05, momentum=0.1, affine=True, track_running_stats=True)\n",
       "    (2): ReLU(inplace=True)\n",
       "    (3): MaxPool2d(kernel_size=3, stride=2, padding=1, dilation=1, ceil_mode=False)\n",
       "  )\n",
       "  (upconv3): Sequential(\n",
       "    (0): Conv2d(128, 64, kernel_size=(3, 3), stride=(1, 1), padding=(1, 1))\n",
       "    (1): BatchNorm2d(64, eps=1e-05, momentum=0.1, affine=True, track_running_stats=True)\n",
       "    (2): ReLU(inplace=True)\n",
       "    (3): ConvTranspose2d(64, 64, kernel_size=(3, 3), stride=(2, 2), padding=(1, 1), output_padding=(1, 1))\n",
       "  )\n",
       "  (upconv2): Sequential(\n",
       "    (0): Conv2d(64, 32, kernel_size=(3, 3), stride=(1, 1), padding=(1, 1))\n",
       "    (1): BatchNorm2d(32, eps=1e-05, momentum=0.1, affine=True, track_running_stats=True)\n",
       "    (2): ReLU(inplace=True)\n",
       "    (3): ConvTranspose2d(32, 32, kernel_size=(3, 3), stride=(2, 2), padding=(1, 1), output_padding=(1, 1))\n",
       "  )\n",
       "  (upconv1): Sequential(\n",
       "    (0): Conv2d(32, 2, kernel_size=(3, 3), stride=(1, 1), padding=(1, 1))\n",
       "    (1): BatchNorm2d(2, eps=1e-05, momentum=0.1, affine=True, track_running_stats=True)\n",
       "    (2): ReLU(inplace=True)\n",
       "    (3): ConvTranspose2d(2, 2, kernel_size=(3, 3), stride=(2, 2), padding=(1, 1), output_padding=(1, 1))\n",
       "  )\n",
       "  (out): Sequential(\n",
       "    (0): Conv2d(2, 2, kernel_size=(1, 1), stride=(1, 1))\n",
       "    (1): Sigmoid()\n",
       "  )\n",
       ")"
      ]
     },
     "execution_count": 14,
     "metadata": {},
     "output_type": "execute_result"
    }
   ],
   "source": [
    "c_unet = C_UNet(4, 2)\n",
    "c_unet.to(DEVICE)\n",
    "\n",
    "c_unet.load_state_dict(torch.load(MODEL_PATH))\n",
    "c_unet.eval()"
   ]
  },
  {
   "cell_type": "code",
   "execution_count": 15,
   "metadata": {},
   "outputs": [],
   "source": [
    "criterion = torch.nn.CrossEntropyLoss()\n",
    "\n",
    "def accuracy(predb, yb):\n",
    "    return (predb.argmax(dim=1) == yb).float().mean().item()\n",
    "\n",
    "def get_accuracy(data_loader, model):\n",
    "    lost, acc = [], []\n",
    "\n",
    "    for images, targets in tqdm(data_loader):\n",
    "        with torch.no_grad():\n",
    "            # Send to device\n",
    "            images = images.to(DEVICE)\n",
    "            targets = targets.to(DEVICE)\n",
    "\n",
    "            # Loss\n",
    "            predictions = model(images)\n",
    "            loss = criterion(predictions, targets)\n",
    "            lost.append(loss.item())\n",
    "            \n",
    "            # Accuracy\n",
    "            acc.append(accuracy(predictions, targets))\n",
    "\n",
    "    return np.mean(lost), np.mean(acc)"
   ]
  },
  {
   "cell_type": "code",
   "execution_count": null,
   "metadata": {},
   "outputs": [],
   "source": [
    "no_cloud_lost, no_cloud_acc = get_accuracy(no_cloud_loader, c_unet)\n",
    "less_cloud_lost, less_cloud_acc = get_accuracy(less_cloud_loader, c_unet)\n",
    "more_cloud_lost, more_cloud_acc = get_accuracy(more_cloud_loader, c_unet)\n",
    "full_cloud_lost, full_cloud_acc = get_accuracy(full_cloud_loader, c_unet)"
   ]
  },
  {
   "cell_type": "code",
   "execution_count": null,
   "metadata": {},
   "outputs": [],
   "source": [
    "print(\"No cloud loss:\\t\", round(no_cloud_lost, 3))\n",
    "print(\"No cloud acc.:\\t\", round(no_cloud_acc, 3))\n",
    "\n",
    "print(\"Less cloud loss:\", round(less_cloud_lost, 3))\n",
    "print(\"Less cloud acc.:\", round(less_cloud_acc, 3))\n",
    "\n",
    "print(\"More cloud loss:\", round(more_cloud_lost, 3))\n",
    "print(\"More cloud acc.:\", round(more_cloud_acc, 3))\n",
    "\n",
    "print(\"Full cloud loss:\", round(full_cloud_lost, 3))\n",
    "print(\"Full cloud acc.:\", round(full_cloud_acc, 3))"
   ]
  },
  {
   "cell_type": "markdown",
   "metadata": {},
   "source": [
    "Cloud thickness"
   ]
  },
  {
   "cell_type": "code",
   "execution_count": 17,
   "metadata": {},
   "outputs": [],
   "source": [
    "thin_cloud, thick_cloud = [], []\n",
    "\n",
    "thickness_threshold = (0.46875, 0.46875, 0.46875, 0.46875)\n",
    "\n",
    "for i in range(len(full_cloud_data)):\n",
    "\n",
    "    x, y = full_cloud_data[i]\n",
    "    out = cv2.inRange(torch.permute(x, (1, 2, 0)).numpy(), thickness_threshold, (1, 1, 1, 1))\n",
    "\n",
    "    try:\n",
    "        IoU = np.sum(np.logical_and(out, y.numpy())) / np.sum(np.logical_or(out, y.numpy()))\n",
    "    except ZeroDivisionError:\n",
    "        thin_cloud.append(full_cloud_list[i])\n",
    "        continue\n",
    "\n",
    "    if IoU > 0.5:\n",
    "        thick_cloud.append(full_cloud_list[i])\n",
    "    else:\n",
    "        thin_cloud.append(full_cloud_list[i])"
   ]
  },
  {
   "cell_type": "code",
   "execution_count": 18,
   "metadata": {},
   "outputs": [
    {
     "name": "stdout",
     "output_type": "stream",
     "text": [
      "5767\n",
      "230\n"
     ]
    }
   ],
   "source": [
    "print(len(thin_cloud))\n",
    "print(len(thick_cloud))"
   ]
  },
  {
   "cell_type": "code",
   "execution_count": 20,
   "metadata": {},
   "outputs": [],
   "source": [
    "thin_cloud_data =  CloudDataset(RED_PATH, GREEN_PATH, BLUE_PATH, NIR_PATH, GT_PATH, thin_cloud)\n",
    "thick_cloud_data =  CloudDataset(RED_PATH, GREEN_PATH, BLUE_PATH, NIR_PATH, GT_PATH, thick_cloud)"
   ]
  },
  {
   "cell_type": "code",
   "execution_count": 21,
   "metadata": {},
   "outputs": [
    {
     "name": "stdout",
     "output_type": "stream",
     "text": [
      "Using cpu device.\n"
     ]
    }
   ],
   "source": [
    "def my_collate(batch):\n",
    "    batch = list(filter (lambda x:torch.sum(x[0]).item() != 0, batch))\n",
    "    if len(batch) == 0:\n",
    "        print(\"DOOOOO\")\n",
    "    return torch.utils.data.dataloader.default_collate(batch)\n",
    "\n",
    "# Constants\n",
    "BATCH_SIZE = 32\n",
    "NUM_WORKER = 0\n",
    "DEVICE = \"cuda\" if torch.cuda.is_available() else \"cpu\"\n",
    "\n",
    "print(f\"Using {DEVICE} device.\")\n",
    "\n",
    "thin_cloud_loader = DataLoader(thin_cloud_data, BATCH_SIZE, shuffle=True, num_workers=NUM_WORKER, collate_fn=my_collate)\n",
    "thick_cloud_loader = DataLoader(thick_cloud_data, BATCH_SIZE, shuffle=True, num_workers=NUM_WORKER, collate_fn=my_collate)"
   ]
  },
  {
   "cell_type": "code",
   "execution_count": 22,
   "metadata": {},
   "outputs": [
    {
     "name": "stderr",
     "output_type": "stream",
     "text": [
      "100%|██████████| 181/181 [12:47<00:00,  4.24s/it]\n",
      "100%|██████████| 8/8 [00:29<00:00,  3.73s/it]\n"
     ]
    }
   ],
   "source": [
    "thin_cloud_lost, thin_cloud_acc = get_accuracy(thin_cloud_loader, c_unet)\n",
    "thick_cloud_lost, thick_cloud_acc = get_accuracy(thick_cloud_loader, c_unet)"
   ]
  },
  {
   "cell_type": "code",
   "execution_count": 23,
   "metadata": {},
   "outputs": [
    {
     "name": "stdout",
     "output_type": "stream",
     "text": [
      "Thin cloud loss:\t 0.519\n",
      "Thin cloud acc.:\t 0.827\n",
      "Thick cloud loss:\t 0.369\n",
      "Thick cloud acc.:\t 0.998\n"
     ]
    }
   ],
   "source": [
    "print(\"Thin cloud loss:\\t\", round(thin_cloud_lost, 3))\n",
    "print(\"Thin cloud acc.:\\t\", round(thin_cloud_acc, 3))\n",
    "\n",
    "print(\"Thick cloud loss:\\t\", round(thick_cloud_lost, 3))\n",
    "print(\"Thick cloud acc.:\\t\", round(thick_cloud_acc, 3))"
   ]
  },
  {
   "cell_type": "code",
   "execution_count": 22,
   "metadata": {},
   "outputs": [
    {
     "data": {
      "image/png": "[encoded data removed]",
      "text/plain": [
       "<Figure size 1080x576 with 1 Axes>"
      ]
     },
     "metadata": {
      "needs_background": "light"
     },
     "output_type": "display_data"
    }
   ],
   "source": [
    "# data to plot\n",
    "loss_list = (no_cloud_lost,\n",
    "             less_cloud_lost,\n",
    "             more_cloud_lost,\n",
    "             full_cloud_lost,\n",
    "             thin_cloud_lost,\n",
    "             thick_cloud_lost)\n",
    "acc_list = (no_cloud_acc,\n",
    "            less_cloud_acc,\n",
    "            more_cloud_acc,\n",
    "            full_cloud_acc,\n",
    "            thin_cloud_acc,\n",
    "            thick_cloud_acc)\n",
    "name_list = (\"0% cloud\", \n",
    "             \"1 - 30% cloud\", \n",
    "             \"30 - 70% cloud\",\n",
    "             \"71 - 100% cloud\",\n",
    "             \"thin cloud\",\n",
    "             \"thick cloud\")\n",
    "\n",
    "n_groups = len(name_list)\n",
    "\n",
    "# create plot\n",
    "fig, ax = plt.subplots()\n",
    "plt.rcParams[\"figure.figsize\"] = (15, 8)\n",
    "index = np.arange(n_groups)\n",
    "bar_width = 0.4\n",
    "\n",
    "rects1 = plt.bar(index + bar_width*0.5, loss_list, bar_width, label='Loss')\n",
    "\n",
    "rects2 = plt.bar(index + bar_width*1.5, acc_list, bar_width, label='Accuracy')\n",
    "\n",
    "plt.xlabel(\"Loss and Accuracy\")\n",
    "plt.ylabel(\"Value\")\n",
    "plt.title('C-UNet++ loss and accuracy on various images type')\n",
    "plt.xticks(index + bar_width, name_list)\n",
    "plt.legend()\n",
    "\n",
    "ax.bar_label(rects1, padding=3)\n",
    "ax.bar_label(rects2, padding=3)\n",
    "\n",
    "plt.tight_layout()\n",
    "plt.savefig(r\"C:\\Users\\hdmqu\\Documents\\GitHub\\Cloud_Detection\\Loss - accuracy bar.png\", bbox_inches='tight')\n",
    "plt.show()"
   ]
  }
 ],
 "metadata": {
  "interpreter": {
   "hash": "20691811052c47fbc34c1dc9ea0ef9ffbf39295de040bf9203c02406b7e5dacf"
  },
  "kernelspec": {
   "display_name": "Python 3.9.9 64-bit",
   "language": "python",
   "name": "python3"
  },
  "language_info": {
   "codemirror_mode": {
    "name": "ipython",
    "version": 3
   },
   "file_extension": ".py",
   "mimetype": "text/x-python",
   "name": "python",
   "nbconvert_exporter": "python",
   "pygments_lexer": "ipython3",
   "version": "3.9.9"
  },
  "orig_nbformat": 4
 },
 "nbformat": 4,
 "nbformat_minor": 2
}
